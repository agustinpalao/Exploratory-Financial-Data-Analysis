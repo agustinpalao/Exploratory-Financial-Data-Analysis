{
 "cells": [
  {
   "cell_type": "markdown",
   "metadata": {},
   "source": [
    "# EVT Modeling"
   ]
  },
  {
   "cell_type": "markdown",
   "metadata": {},
   "source": [
    "Using historical returns of stocks from healthcare industry, I am going to try using lmoments package (Don't forget to pip install it) to fit distributions that may fit the stock returns."
   ]
  },
  {
   "cell_type": "code",
   "execution_count": 8,
   "metadata": {},
   "outputs": [],
   "source": [
    "import pandas as pd\n",
    "import numpy as np\n",
    "import matplotlib.pylab as plt\n",
    "from matplotlib.legend_handler import HandlerLine2D\n",
    "%matplotlib inline\n",
    "from matplotlib.pylab import rcParams\n",
    "rcParams['figure.figsize'] = 15, 6"
   ]
  },
  {
   "cell_type": "code",
   "execution_count": 12,
   "metadata": {
    "scrolled": true
   },
   "outputs": [
    {
     "data": {
      "text/html": [
       "<div>\n",
       "<style scoped>\n",
       "    .dataframe tbody tr th:only-of-type {\n",
       "        vertical-align: middle;\n",
       "    }\n",
       "\n",
       "    .dataframe tbody tr th {\n",
       "        vertical-align: top;\n",
       "    }\n",
       "\n",
       "    .dataframe thead th {\n",
       "        text-align: right;\n",
       "    }\n",
       "</style>\n",
       "<table border=\"1\" class=\"dataframe\">\n",
       "  <thead>\n",
       "    <tr style=\"text-align: right;\">\n",
       "      <th></th>\n",
       "      <th>date</th>\n",
       "      <th>ALXN Return</th>\n",
       "      <th>BIIB Return</th>\n",
       "      <th>BSX Return</th>\n",
       "      <th>EW Return</th>\n",
       "      <th>GILD Return</th>\n",
       "    </tr>\n",
       "  </thead>\n",
       "  <tbody>\n",
       "    <tr>\n",
       "      <th>0</th>\n",
       "      <td>2019-01-02 00:00:00+00:00</td>\n",
       "      <td>NaN</td>\n",
       "      <td>NaN</td>\n",
       "      <td>NaN</td>\n",
       "      <td>NaN</td>\n",
       "      <td>NaN</td>\n",
       "    </tr>\n",
       "    <tr>\n",
       "      <th>1</th>\n",
       "      <td>2019-01-03 00:00:00+00:00</td>\n",
       "      <td>0.022030</td>\n",
       "      <td>0.007581</td>\n",
       "      <td>-0.044980</td>\n",
       "      <td>-0.037389</td>\n",
       "      <td>0.028531</td>\n",
       "    </tr>\n",
       "    <tr>\n",
       "      <th>2</th>\n",
       "      <td>2019-01-04 00:00:00+00:00</td>\n",
       "      <td>0.057779</td>\n",
       "      <td>0.036906</td>\n",
       "      <td>0.039502</td>\n",
       "      <td>0.035222</td>\n",
       "      <td>0.045977</td>\n",
       "    </tr>\n",
       "    <tr>\n",
       "      <th>3</th>\n",
       "      <td>2019-01-07 00:00:00+00:00</td>\n",
       "      <td>0.018302</td>\n",
       "      <td>0.012785</td>\n",
       "      <td>0.006139</td>\n",
       "      <td>0.006859</td>\n",
       "      <td>0.004542</td>\n",
       "    </tr>\n",
       "    <tr>\n",
       "      <th>4</th>\n",
       "      <td>2019-01-08 00:00:00+00:00</td>\n",
       "      <td>0.006207</td>\n",
       "      <td>0.006328</td>\n",
       "      <td>0.027891</td>\n",
       "      <td>0.019167</td>\n",
       "      <td>-0.006855</td>\n",
       "    </tr>\n",
       "  </tbody>\n",
       "</table>\n",
       "</div>"
      ],
      "text/plain": [
       "                        date  ALXN Return  BIIB Return  BSX Return  EW Return  \\\n",
       "0  2019-01-02 00:00:00+00:00          NaN          NaN         NaN        NaN   \n",
       "1  2019-01-03 00:00:00+00:00     0.022030     0.007581   -0.044980  -0.037389   \n",
       "2  2019-01-04 00:00:00+00:00     0.057779     0.036906    0.039502   0.035222   \n",
       "3  2019-01-07 00:00:00+00:00     0.018302     0.012785    0.006139   0.006859   \n",
       "4  2019-01-08 00:00:00+00:00     0.006207     0.006328    0.027891   0.019167   \n",
       "\n",
       "   GILD Return  \n",
       "0          NaN  \n",
       "1     0.028531  \n",
       "2     0.045977  \n",
       "3     0.004542  \n",
       "4    -0.006855  "
      ]
     },
     "execution_count": 12,
     "metadata": {},
     "output_type": "execute_result"
    }
   ],
   "source": [
    "data = pd.read_csv(\"stock_returns\")\n",
    "data.head()\n",
    "#print data.dtypes"
   ]
  },
  {
   "cell_type": "markdown",
   "metadata": {},
   "source": [
    "Choosing the Gilean returns to apply some distribution fitting"
   ]
  },
  {
   "cell_type": "code",
   "execution_count": 15,
   "metadata": {
    "scrolled": true
   },
   "outputs": [
    {
     "data": {
      "text/html": [
       "<div>\n",
       "<style scoped>\n",
       "    .dataframe tbody tr th:only-of-type {\n",
       "        vertical-align: middle;\n",
       "    }\n",
       "\n",
       "    .dataframe tbody tr th {\n",
       "        vertical-align: top;\n",
       "    }\n",
       "\n",
       "    .dataframe thead th {\n",
       "        text-align: right;\n",
       "    }\n",
       "</style>\n",
       "<table border=\"1\" class=\"dataframe\">\n",
       "  <thead>\n",
       "    <tr style=\"text-align: right;\">\n",
       "      <th></th>\n",
       "      <th>index</th>\n",
       "      <th>date</th>\n",
       "      <th>ALXN Return</th>\n",
       "      <th>BIIB Return</th>\n",
       "      <th>BSX Return</th>\n",
       "      <th>EW Return</th>\n",
       "      <th>GILD Return</th>\n",
       "    </tr>\n",
       "  </thead>\n",
       "  <tbody>\n",
       "    <tr>\n",
       "      <th>0</th>\n",
       "      <td>0</td>\n",
       "      <td>2019-01-02 00:00:00+00:00</td>\n",
       "      <td>NaN</td>\n",
       "      <td>NaN</td>\n",
       "      <td>NaN</td>\n",
       "      <td>NaN</td>\n",
       "      <td>NaN</td>\n",
       "    </tr>\n",
       "    <tr>\n",
       "      <th>1</th>\n",
       "      <td>1</td>\n",
       "      <td>2019-01-03 00:00:00+00:00</td>\n",
       "      <td>0.022030</td>\n",
       "      <td>0.007581</td>\n",
       "      <td>-0.044980</td>\n",
       "      <td>-0.037389</td>\n",
       "      <td>0.028531</td>\n",
       "    </tr>\n",
       "    <tr>\n",
       "      <th>2</th>\n",
       "      <td>2</td>\n",
       "      <td>2019-01-04 00:00:00+00:00</td>\n",
       "      <td>0.057779</td>\n",
       "      <td>0.036906</td>\n",
       "      <td>0.039502</td>\n",
       "      <td>0.035222</td>\n",
       "      <td>0.045977</td>\n",
       "    </tr>\n",
       "    <tr>\n",
       "      <th>3</th>\n",
       "      <td>3</td>\n",
       "      <td>2019-01-07 00:00:00+00:00</td>\n",
       "      <td>0.018302</td>\n",
       "      <td>0.012785</td>\n",
       "      <td>0.006139</td>\n",
       "      <td>0.006859</td>\n",
       "      <td>0.004542</td>\n",
       "    </tr>\n",
       "    <tr>\n",
       "      <th>4</th>\n",
       "      <td>4</td>\n",
       "      <td>2019-01-08 00:00:00+00:00</td>\n",
       "      <td>0.006207</td>\n",
       "      <td>0.006328</td>\n",
       "      <td>0.027891</td>\n",
       "      <td>0.019167</td>\n",
       "      <td>-0.006855</td>\n",
       "    </tr>\n",
       "  </tbody>\n",
       "</table>\n",
       "</div>"
      ],
      "text/plain": [
       "   index                       date  ALXN Return  BIIB Return  BSX Return  \\\n",
       "0      0  2019-01-02 00:00:00+00:00          NaN          NaN         NaN   \n",
       "1      1  2019-01-03 00:00:00+00:00     0.022030     0.007581   -0.044980   \n",
       "2      2  2019-01-04 00:00:00+00:00     0.057779     0.036906    0.039502   \n",
       "3      3  2019-01-07 00:00:00+00:00     0.018302     0.012785    0.006139   \n",
       "4      4  2019-01-08 00:00:00+00:00     0.006207     0.006328    0.027891   \n",
       "\n",
       "   EW Return  GILD Return  \n",
       "0        NaN          NaN  \n",
       "1  -0.037389     0.028531  \n",
       "2   0.035222     0.045977  \n",
       "3   0.006859     0.004542  \n",
       "4   0.019167    -0.006855  "
      ]
     },
     "execution_count": 15,
     "metadata": {},
     "output_type": "execute_result"
    }
   ],
   "source": [
    "data.reset_index(level=0, inplace=True)\n",
    "data.head()"
   ]
  },
  {
   "cell_type": "code",
   "execution_count": 19,
   "metadata": {},
   "outputs": [
    {
     "data": {
      "text/plain": [
       "pandas._libs.tslibs.timestamps.Timestamp"
      ]
     },
     "execution_count": 19,
     "metadata": {},
     "output_type": "execute_result"
    }
   ],
   "source": [
    "type(data['date'].iloc[0])\n"
   ]
  },
  {
   "cell_type": "code",
   "execution_count": 18,
   "metadata": {},
   "outputs": [],
   "source": [
    "data['date'] = pd.to_datetime(data['date'])"
   ]
  },
  {
   "cell_type": "code",
   "execution_count": 22,
   "metadata": {},
   "outputs": [],
   "source": [
    "data['Year'] = data['date'].apply(lambda time: time.year)\n",
    "data['Month'] = data['date'].apply(lambda time: time.month)\n",
    "data['Day'] = data['date'].apply(lambda time: time.day)"
   ]
  },
  {
   "cell_type": "code",
   "execution_count": 23,
   "metadata": {},
   "outputs": [
    {
     "data": {
      "text/html": [
       "<div>\n",
       "<style scoped>\n",
       "    .dataframe tbody tr th:only-of-type {\n",
       "        vertical-align: middle;\n",
       "    }\n",
       "\n",
       "    .dataframe tbody tr th {\n",
       "        vertical-align: top;\n",
       "    }\n",
       "\n",
       "    .dataframe thead th {\n",
       "        text-align: right;\n",
       "    }\n",
       "</style>\n",
       "<table border=\"1\" class=\"dataframe\">\n",
       "  <thead>\n",
       "    <tr style=\"text-align: right;\">\n",
       "      <th></th>\n",
       "      <th>index</th>\n",
       "      <th>date</th>\n",
       "      <th>ALXN Return</th>\n",
       "      <th>BIIB Return</th>\n",
       "      <th>BSX Return</th>\n",
       "      <th>EW Return</th>\n",
       "      <th>GILD Return</th>\n",
       "      <th>Year</th>\n",
       "      <th>Month</th>\n",
       "      <th>Day</th>\n",
       "    </tr>\n",
       "  </thead>\n",
       "  <tbody>\n",
       "    <tr>\n",
       "      <th>0</th>\n",
       "      <td>0</td>\n",
       "      <td>2019-01-02 00:00:00+00:00</td>\n",
       "      <td>NaN</td>\n",
       "      <td>NaN</td>\n",
       "      <td>NaN</td>\n",
       "      <td>NaN</td>\n",
       "      <td>NaN</td>\n",
       "      <td>2019</td>\n",
       "      <td>1</td>\n",
       "      <td>2</td>\n",
       "    </tr>\n",
       "    <tr>\n",
       "      <th>1</th>\n",
       "      <td>1</td>\n",
       "      <td>2019-01-03 00:00:00+00:00</td>\n",
       "      <td>0.022030</td>\n",
       "      <td>0.007581</td>\n",
       "      <td>-0.044980</td>\n",
       "      <td>-0.037389</td>\n",
       "      <td>0.028531</td>\n",
       "      <td>2019</td>\n",
       "      <td>1</td>\n",
       "      <td>3</td>\n",
       "    </tr>\n",
       "    <tr>\n",
       "      <th>2</th>\n",
       "      <td>2</td>\n",
       "      <td>2019-01-04 00:00:00+00:00</td>\n",
       "      <td>0.057779</td>\n",
       "      <td>0.036906</td>\n",
       "      <td>0.039502</td>\n",
       "      <td>0.035222</td>\n",
       "      <td>0.045977</td>\n",
       "      <td>2019</td>\n",
       "      <td>1</td>\n",
       "      <td>4</td>\n",
       "    </tr>\n",
       "    <tr>\n",
       "      <th>3</th>\n",
       "      <td>3</td>\n",
       "      <td>2019-01-07 00:00:00+00:00</td>\n",
       "      <td>0.018302</td>\n",
       "      <td>0.012785</td>\n",
       "      <td>0.006139</td>\n",
       "      <td>0.006859</td>\n",
       "      <td>0.004542</td>\n",
       "      <td>2019</td>\n",
       "      <td>1</td>\n",
       "      <td>7</td>\n",
       "    </tr>\n",
       "    <tr>\n",
       "      <th>4</th>\n",
       "      <td>4</td>\n",
       "      <td>2019-01-08 00:00:00+00:00</td>\n",
       "      <td>0.006207</td>\n",
       "      <td>0.006328</td>\n",
       "      <td>0.027891</td>\n",
       "      <td>0.019167</td>\n",
       "      <td>-0.006855</td>\n",
       "      <td>2019</td>\n",
       "      <td>1</td>\n",
       "      <td>8</td>\n",
       "    </tr>\n",
       "  </tbody>\n",
       "</table>\n",
       "</div>"
      ],
      "text/plain": [
       "   index                      date  ALXN Return  BIIB Return  BSX Return  \\\n",
       "0      0 2019-01-02 00:00:00+00:00          NaN          NaN         NaN   \n",
       "1      1 2019-01-03 00:00:00+00:00     0.022030     0.007581   -0.044980   \n",
       "2      2 2019-01-04 00:00:00+00:00     0.057779     0.036906    0.039502   \n",
       "3      3 2019-01-07 00:00:00+00:00     0.018302     0.012785    0.006139   \n",
       "4      4 2019-01-08 00:00:00+00:00     0.006207     0.006328    0.027891   \n",
       "\n",
       "   EW Return  GILD Return  Year  Month  Day  \n",
       "0        NaN          NaN  2019      1    2  \n",
       "1  -0.037389     0.028531  2019      1    3  \n",
       "2   0.035222     0.045977  2019      1    4  \n",
       "3   0.006859     0.004542  2019      1    7  \n",
       "4   0.019167    -0.006855  2019      1    8  "
      ]
     },
     "execution_count": 23,
     "metadata": {},
     "output_type": "execute_result"
    }
   ],
   "source": [
    "data.head()"
   ]
  },
  {
   "cell_type": "code",
   "execution_count": 27,
   "metadata": {},
   "outputs": [
    {
     "data": {
      "text/plain": [
       "[<matplotlib.lines.Line2D at 0xcc206a0>]"
      ]
     },
     "execution_count": 27,
     "metadata": {},
     "output_type": "execute_result"
    },
    {
     "data": {
      "image/png": "[encoded data removed]",
      "text/plain": [
       "<Figure size 1080x432 with 1 Axes>"
      ]
     },
     "metadata": {
      "needs_background": "light"
     },
     "output_type": "display_data"
    }
   ],
   "source": [
    "df = data.groupby(\"Day\")['GILD Return'].max()\n",
    "plt.plot(df)"
   ]
  },
  {
   "cell_type": "code",
   "execution_count": 28,
   "metadata": {},
   "outputs": [
    {
     "data": {
      "text/plain": [
       "[0.03458434179887536,\n",
       " 0.012231437503216484,\n",
       " 0.25964129222140486,\n",
       " 0.14458789702766237,\n",
       " 0.06501021968586065]"
      ]
     },
     "execution_count": 28,
     "metadata": {},
     "output_type": "execute_result"
    }
   ],
   "source": [
    "LMU = lmoments.samlmu(df)\n",
    "LMU"
   ]
  },
  {
   "cell_type": "markdown",
   "metadata": {},
   "source": [
    "### Fit different distributions"
   ]
  },
  {
   "cell_type": "code",
   "execution_count": 29,
   "metadata": {},
   "outputs": [],
   "source": [
    "gevfit = lmoments.pelgev(LMU)\n",
    "expfit = lmoments.pelexp(LMU)\n",
    "gumfit = lmoments.pelgum(LMU)\n",
    "weifit = lmoments.pelwei(LMU)\n",
    "gpafit = lmoments.pelgpa(LMU)\n",
    "pe3fit = lmoments.pelpe3(LMU)\n",
    "gamfit = lmoments.pelgam(LMU)\n",
    "glofit = lmoments.pelglo(LMU)"
   ]
  },
  {
   "cell_type": "code",
   "execution_count": 31,
   "metadata": {},
   "outputs": [],
   "source": [
    "T = np.arange(0.1, 10.1, 0.1) + 1\n",
    "\n",
    "# extreme precipitations\n",
    "gevST = lmoments.quagev(1.0-1./T, gevfit)\n",
    "expST = lmoments.quaexp(1.0-1./T, expfit)  \n",
    "gumST = lmoments.quagum(1.0-1./T, gumfit)\n",
    "weiST = lmoments.quawei(1.0-1./T, weifit)\n",
    "gpaST = lmoments.quagpa(1.0-1./T, gpafit)\n",
    "pe3ST = lmoments.quape3(1.0-1./T, pe3fit)\n",
    "gamST = lmoments.quagam(1.0-1./T, gamfit)\n",
    "gloST = lmoments.quaglo(1.0-1./T, glofit)"
   ]
  },
  {
   "cell_type": "code",
   "execution_count": 32,
   "metadata": {},
   "outputs": [
    {
     "data": {
      "text/plain": [
       "<matplotlib.legend.Legend at 0xce173c8>"
      ]
     },
     "execution_count": 32,
     "metadata": {},
     "output_type": "execute_result"
    },
    {
     "data": {
      "image/png": "[encoded data removed]",
      "text/plain": [
       "<Figure size 1080x432 with 1 Axes>"
      ]
     },
     "metadata": {
      "needs_background": "light"
     },
     "output_type": "display_data"
    }
   ],
   "source": [
    "# setup plotting parameters\n",
    "plt.xscale('log')\n",
    "plt.xlabel('Average Return Interval (Day)')\n",
    "plt.ylabel('Gilead Returns')\n",
    "\n",
    "# draw extreme values from GEV distribution\n",
    "line1, = plt.plot(T, gevST, 'g', label='GEV')\n",
    "line2, = plt.plot(T, expST, 'r', label='EXP')\n",
    "line3, = plt.plot(T, gumST, 'b', label='GUM')\n",
    "line4, = plt.plot(T, weiST, 'y', label='WEI')\n",
    "line5, = plt.plot(T, gpaST, 'c', label='GPA')\n",
    "line6, = plt.plot(T, pe3ST, 'm', label='PE3')\n",
    "line7, = plt.plot(T, gamST, 'k', label='GAM')\n",
    "line8, = plt.plot(T, gloST, c='orange', label='GLO')\n",
    "\n",
    "# draw extreme values from observations(empirical distribution)\n",
    "N    = np.r_[1:len(df.index)+1]*1.0 #must *1.0 to convert int to float\n",
    "Nmax = max(N)\n",
    "\n",
    "plt.scatter(Nmax/N, sorted(df)[::-1], color = 'orangered', facecolors='none', label='Empirical')\n",
    "plt.legend(handler_map={line1: HandlerLine2D(numpoints=4)})"
   ]
  },
  {
   "cell_type": "markdown",
   "metadata": {},
   "source": [
    "### The question here is how to select the optimal distribution???"
   ]
  },
  {
   "cell_type": "code",
   "execution_count": null,
   "metadata": {},
   "outputs": [],
   "source": []
  }
 ],
 "metadata": {
  "kernelspec": {
   "display_name": "Python 2",
   "language": "python",
   "name": "python2"
  },
  "language_info": {
   "codemirror_mode": {
    "name": "ipython",
    "version": 2
   },
   "file_extension": ".py",
   "mimetype": "text/x-python",
   "name": "python",
   "nbconvert_exporter": "python",
   "pygments_lexer": "ipython2",
   "version": "2.7.16"
  }
 },
 "nbformat": 4,
 "nbformat_minor": 2
}
